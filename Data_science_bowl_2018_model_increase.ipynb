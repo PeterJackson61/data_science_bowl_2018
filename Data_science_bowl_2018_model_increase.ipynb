{
  "nbformat": 4,
  "nbformat_minor": 0,
  "metadata": {
    "colab": {
      "private_outputs": true,
      "provenance": [],
      "authorship_tag": "ABX9TyMlFJtZuOF1bFbP7eUm1aQC",
      "include_colab_link": true
    },
    "kernelspec": {
      "name": "python3",
      "display_name": "Python 3"
    },
    "language_info": {
      "name": "python"
    },
    "accelerator": "GPU",
    "gpuClass": "standard"
  },
  "cells": [
    {
      "cell_type": "markdown",
      "metadata": {
        "id": "view-in-github",
        "colab_type": "text"
      },
      "source": [
        "<a href=\"https://colab.research.google.com/github/PeterJackson61/data_science_bowl_2018/blob/main/Data_science_bowl_2018_model_increase.ipynb\" target=\"_parent\"><img src=\"https://colab.research.google.com/assets/colab-badge.svg\" alt=\"Open In Colab\"/></a>"
      ]
    },
    {
      "cell_type": "code",
      "execution_count": null,
      "metadata": {
        "id": "p_J7csvvyx_I"
      },
      "outputs": [],
      "source": [
        "!pip install -q kaggle"
      ]
    },
    {
      "cell_type": "code",
      "source": [
        "!kaggle competitions download -c data-science-bowl-2018\n"
      ],
      "metadata": {
        "id": "nAH7I_Jt2ik6"
      },
      "execution_count": null,
      "outputs": []
    },
    {
      "cell_type": "code",
      "source": [
        "# !mkdir ~/.kaggle\n",
        "!touch ~/.kaggle/kaggle.json\n",
        "\n",
        "api_token = {\"username\":\"winsonnguyen\",\"key\":\"3201b1729ad34de122cc0fff4d03090f\"}\n",
        "\n",
        "import json\n",
        "\n",
        "with open('/root/.kaggle/kaggle.json', 'w') as file:\n",
        "    json.dump(api_token, file)\n",
        "\n",
        "!chmod 600 ~/.kaggle/kaggle.json"
      ],
      "metadata": {
        "id": "SDn6t93Y29Gx"
      },
      "execution_count": null,
      "outputs": []
    },
    {
      "cell_type": "code",
      "source": [
        "!kaggle competitions download -c data-science-bowl-2018"
      ],
      "metadata": {
        "id": "f5Q921vy4Msj"
      },
      "execution_count": null,
      "outputs": []
    },
    {
      "cell_type": "code",
      "source": [
        "!unzip data-science-bowl-2018.zip -d /content/my_data"
      ],
      "metadata": {
        "id": "2vXjMeav4XpF"
      },
      "execution_count": null,
      "outputs": []
    },
    {
      "cell_type": "code",
      "source": [
        "!mkdir /content/data_train/"
      ],
      "metadata": {
        "id": "Wrl89cTQ7MaK"
      },
      "execution_count": null,
      "outputs": []
    },
    {
      "cell_type": "code",
      "source": [
        "!unzip /content/my_data/stage1_train.zip -d /content/data_train/"
      ],
      "metadata": {
        "id": "XIIxTvV_4gb1"
      },
      "execution_count": null,
      "outputs": []
    },
    {
      "cell_type": "code",
      "source": [
        "!unzip /content/my_data/stage1_test.zip -d /content/data_test"
      ],
      "metadata": {
        "id": "qjVu1YeMNqI0"
      },
      "execution_count": null,
      "outputs": []
    },
    {
      "cell_type": "code",
      "source": [
        "import os"
      ],
      "metadata": {
        "id": "SUVgsVhxM1nm"
      },
      "execution_count": null,
      "outputs": []
    },
    {
      "cell_type": "code",
      "source": [
        "TRAIN_PATH = './data_train/'\n",
        "TEST_PATH = './data_test/'\n",
        "# print(next(os.walk(TRAIN_PATH))[1])"
      ],
      "metadata": {
        "id": "ITsax7FF6QeJ"
      },
      "execution_count": null,
      "outputs": []
    },
    {
      "cell_type": "code",
      "source": [
        "print(next(os.walk(TRAIN_PATH))[1] == os.listdir(TRAIN_PATH))"
      ],
      "metadata": {
        "id": "xg4o-nIQMzIv"
      },
      "execution_count": null,
      "outputs": []
    },
    {
      "cell_type": "code",
      "source": [
        "IMG_CHANNEL = 3\n",
        "IMG_WIDTH = 512\n",
        "IMG_HEIGHT = 512"
      ],
      "metadata": {
        "id": "IaJ8UY4kOYwB"
      },
      "execution_count": null,
      "outputs": []
    },
    {
      "cell_type": "code",
      "source": [
        "import numpy as np\n",
        "from tqdm import tqdm\n",
        "import sys\n",
        "from skimage.io import imread, imshow\n",
        "from skimage.transform import resize\n"
      ],
      "metadata": {
        "id": "IpLtz4jWOthv"
      },
      "execution_count": null,
      "outputs": []
    },
    {
      "cell_type": "code",
      "source": [
        "def getting_X_Y_train():\n",
        "  train_ids = os.listdir(TRAIN_PATH)\n",
        "  test_ids = os.listdir(TEST_PATH)\n",
        "\n",
        "  X_train = np.zeros((len(train_ids), IMG_HEIGHT, IMG_WIDTH, IMG_CHANNEL), dtype=np.uint8)\n",
        "  Y_train = np.zeros((len(train_ids), IMG_HEIGHT, IMG_WIDTH, 1), dtype=np.bool_)\n",
        "\n",
        "  print(\"Getting and resizing the training images and masks\")\n",
        "\n",
        "  sys.stdout.flush()\n",
        "  for n, id_ in tqdm(enumerate(train_ids), total=len(train_ids)):\n",
        "        path = TRAIN_PATH + id_\n",
        "        img = imread(path + '/images/' + id_ + '.png')[:,:,:IMG_CHANNEL]\n",
        "        img = resize(img, (IMG_HEIGHT, IMG_WIDTH), mode='constant', preserve_range=True)\n",
        "        img = np.array(img/np.amax(img)*255, np.int32)\n",
        "        X_train[n] = img\n",
        "        mask = np.zeros((IMG_HEIGHT, IMG_WIDTH, 1), dtype=np.bool_)\n",
        "        for mask_file in next(os.walk(path + '/masks/'))[2]:\n",
        "            mask_ = imread(path + '/masks/' + mask_file)\n",
        "            mask_ = np.expand_dims(resize(mask_, (IMG_HEIGHT, IMG_WIDTH), mode='constant',\n",
        "                                          preserve_range=True), axis=-1)\n",
        "            mask = np.maximum(mask, mask_)\n",
        "        Y_train[n] = mask\n",
        "  return X_train, Y_train"
      ],
      "metadata": {
        "id": "Z8LH5500Na9H"
      },
      "execution_count": null,
      "outputs": []
    },
    {
      "cell_type": "code",
      "source": [
        "train_ids = os.listdir(TRAIN_PATH)\n",
        "idx = np.random.randint(1,199)\n",
        "train_ids[idx]\n",
        "path = TRAIN_PATH + train_ids[idx]\n",
        "img = imread(path + '/images/' + train_ids[idx] + '.png')[:,:,:IMG_CHANNEL]\n",
        "img = resize(img, (IMG_HEIGHT, IMG_WIDTH), mode='constant', preserve_range=True)\n",
        "img = np.array(img/np.amax(img)*255, np.int32)\n",
        "print(type(img))\n",
        "import matplotlib.pyplot as plt\n",
        "imshow(img)"
      ],
      "metadata": {
        "id": "OXsR8jaEdFJ1"
      },
      "execution_count": null,
      "outputs": []
    },
    {
      "cell_type": "code",
      "source": [
        "X_train, Y_train = getting_X_Y_train()"
      ],
      "metadata": {
        "id": "3aUe6kUHQEZk"
      },
      "execution_count": null,
      "outputs": []
    },
    {
      "cell_type": "code",
      "source": [
        "X_train.shape"
      ],
      "metadata": {
        "id": "-WnN-SvIQIQx"
      },
      "execution_count": null,
      "outputs": []
    },
    {
      "cell_type": "code",
      "source": [
        "Y_train.shape"
      ],
      "metadata": {
        "id": "MYEsFsLs4xHF"
      },
      "execution_count": null,
      "outputs": []
    },
    {
      "cell_type": "code",
      "source": [
        "from tensorflow.keras.layers import Conv2D, BatchNormalization, Activation, MaxPool2D, Conv2DTranspose, Concatenate, Input\n",
        "from tensorflow.keras.models import Model"
      ],
      "metadata": {
        "id": "Cl9duzm-43t1"
      },
      "execution_count": null,
      "outputs": []
    },
    {
      "cell_type": "code",
      "source": [
        "def conv_block(inputs, num_filters):\n",
        "    x = Conv2D(num_filters, 3, padding=\"same\")(inputs)\n",
        "    x = BatchNormalization()(x)\n",
        "    x = Activation(\"relu\")(x)\n",
        "\n",
        "    x = Conv2D(num_filters, 3, padding=\"same\")(x)\n",
        "    x = BatchNormalization()(x)\n",
        "    x = Activation(\"relu\")(x)\n",
        "\n",
        "    return x\n",
        "\n",
        "def encoder_block(inputs, num_filters):\n",
        "    s = conv_block(inputs, num_filters)\n",
        "    p = MaxPool2D((2, 2))(s)\n",
        "    return s, p\n",
        "\n",
        "def decoder_block(inputs, skip_features, num_filters):\n",
        "    x = Conv2DTranspose(num_filters, (2, 2), strides=2, padding=\"same\")(inputs)\n",
        "    x = Concatenate()([x, skip_features])\n",
        "    x = conv_block(x, num_filters)\n",
        "    return x\n",
        "\n",
        "def build_unet(input_shape):\n",
        "    \"\"\" Input layer \"\"\"\n",
        "    inputs = Input(input_shape)\n",
        "\n",
        "    \"\"\" Encoder \"\"\"\n",
        "    s1, p1 = encoder_block(inputs, 64)\n",
        "    s2, p2 = encoder_block(p1, 128)\n",
        "    s3, p3 = encoder_block(p2, 256)\n",
        "    s4, p4 = encoder_block(p3, 512)\n",
        "\n",
        "    \"\"\" Bottleneck \"\"\"\n",
        "    b1 = conv_block(p4, 1024)\n",
        "\n",
        "    \"\"\" Decoder \"\"\"\n",
        "    d1 = decoder_block(b1, s4, 512)\n",
        "    d2 = decoder_block(d1, s3, 256)\n",
        "    d3 = decoder_block(d2, s2, 128)\n",
        "    d4 = decoder_block(d3, s1, 64)\n",
        "\n",
        "    \"\"\" Output layer \"\"\"\n",
        "    outputs = Conv2D(1, 1, padding=\"same\", activation=\"sigmoid\")(d4)\n",
        "\n",
        "    model = Model(inputs, outputs, name=\"UNET\")\n",
        "    return model\n",
        "model = build_unet((512, 512, 3))\n",
        "model.summary()\n"
      ],
      "metadata": {
        "id": "QVemFSgz581S"
      },
      "execution_count": null,
      "outputs": []
    },
    {
      "cell_type": "code",
      "source": [
        "import numpy as np\n",
        "import tensorflow as tf\n",
        "from tensorflow.keras import backend as K\n",
        "\n",
        "def iou(y_true, y_pred):\n",
        "    def f(y_true, y_pred):\n",
        "        intersection = (y_true * y_pred).sum()\n",
        "        union = y_true.sum() + y_pred.sum() - intersection\n",
        "        x = (intersection + 1e-15) / (union + 1e-15)\n",
        "        x = x.astype(np.float32)\n",
        "        return x\n",
        "    return tf.numpy_function(f, [y_true, y_pred], tf.float32)\n",
        "\n",
        "smooth = 1e-15\n",
        "def dice_coef(y_true, y_pred):\n",
        "    y_true = tf.keras.layers.Flatten()(y_true)\n",
        "    y_pred = tf.keras.layers.Flatten()(y_pred)\n",
        "    intersection = tf.reduce_sum(y_true * y_pred)\n",
        "    return (2. * intersection + smooth) / (tf.reduce_sum(y_true) + tf.reduce_sum(y_pred) + smooth)\n",
        "\n",
        "def dice_loss(y_true, y_pred):\n",
        "    return 1.0 - dice_coef(y_true, y_pred)\n"
      ],
      "metadata": {
        "id": "K-vSOAyC7aRv"
      },
      "execution_count": null,
      "outputs": []
    },
    {
      "cell_type": "code",
      "source": [
        "from tensorflow.keras.optimizers import Adam\n",
        "from tensorflow.keras.metrics import Recall, Precision\n",
        "from tensorflow.keras.callbacks import ModelCheckpoint, CSVLogger, ReduceLROnPlateau, EarlyStopping"
      ],
      "metadata": {
        "id": "hxikLHRJ8KMf"
      },
      "execution_count": null,
      "outputs": []
    },
    {
      "cell_type": "code",
      "source": [
        "!mkdir files"
      ],
      "metadata": {
        "id": "1JJ8AImlBY2f"
      },
      "execution_count": null,
      "outputs": []
    },
    {
      "cell_type": "code",
      "source": [
        "import pandas as pd\n",
        "data = pd.DataFrame()\n",
        "data.to_csv('./files/data.csv')"
      ],
      "metadata": {
        "id": "nvAprpbMBdj-"
      },
      "execution_count": null,
      "outputs": []
    },
    {
      "cell_type": "code",
      "source": [
        "model.save('files/test_cp.h5')"
      ],
      "metadata": {
        "id": "5V0gXbgdCRps"
      },
      "execution_count": null,
      "outputs": []
    },
    {
      "cell_type": "code",
      "source": [
        "\"\"\" Hyperparaqmeters \"\"\"\n",
        "batch_size = 4\n",
        "lr = 1e-4\n",
        "num_epochs = 10\n",
        "checkpoint_path = \"files/test_cp.h5\"\n",
        "checkpoint_dir = os.path.dirname(checkpoint_path)\n",
        "csv_path = \"files/data.csv\"\n",
        "\n",
        "model = build_unet((IMG_HEIGHT, IMG_WIDTH, 3))\n",
        "metrics = [dice_coef, iou, Recall(), Precision()]\n",
        "model.compile(loss=\"binary_crossentropy\", optimizer=Adam(lr), metrics=metrics)\n",
        "train_steps = (len(X_train)//batch_size)\n",
        "# valid_steps = (len(valid_x)//batch_size)\n",
        "callbacks = [\n",
        "        ModelCheckpoint(checkpoint_path, verbose=1, save_best_only=True, save_freq=5*batch_size),\n",
        "        ReduceLROnPlateau(monitor='val_loss', factor=0.1, patience=5, min_lr=1e-7, verbose=1),\n",
        "        CSVLogger(csv_path),\n",
        "        EarlyStopping(monitor='val_loss', patience=20, restore_best_weights=False)\n",
        "    ]\n",
        "model.fit(\n",
        "        X_train, Y_train,\n",
        "        epochs=num_epochs,\n",
        "        # validation_data=valid_dataset,\n",
        "        steps_per_epoch=train_steps,\n",
        "        # validation_steps=valid_steps,\n",
        "        callbacks=callbacks\n",
        "    )\n",
        "model.save('model_data_science_bowl_2018.h5')"
      ],
      "metadata": {
        "id": "0v7rEMAtBqN0"
      },
      "execution_count": null,
      "outputs": []
    },
    {
      "cell_type": "code",
      "source": [
        "def getting_X_test():\n",
        "    test_ids = next(os.walk(TEST_PATH))[1]\n",
        "    X_test = np.zeros((len(test_ids), IMG_HEIGHT, IMG_WIDTH, IMG_CHANNEL), dtype=np.uint8)\n",
        "    sizes_test = []\n",
        "    print('Getting and resizing test images ... ')\n",
        "    sys.stdout.flush()\n",
        "    for n, id_ in tqdm(enumerate(test_ids), total=len(test_ids)):\n",
        "        path = TEST_PATH + id_\n",
        "        img = imread(path + '/images/' + id_ + '.png')[:, :, :IMG_CHANNEL]\n",
        "        sizes_test.append([img.shape[0], img.shape[1]])\n",
        "        img = resize(img, (IMG_HEIGHT, IMG_WIDTH), mode='constant', preserve_range=True)\n",
        "        X_test[n] = img\n",
        "    return X_test, sizes_test\n",
        "np.random.seed(42)\n",
        "tf.random.set_seed(42)"
      ],
      "metadata": {
        "id": "bc6IvYlNKSaM"
      },
      "execution_count": null,
      "outputs": []
    },
    {
      "cell_type": "code",
      "source": [
        "X_test, sizes_test = getting_X_test()"
      ],
      "metadata": {
        "id": "Z3s8qFb8KbYK"
      },
      "execution_count": null,
      "outputs": []
    },
    {
      "cell_type": "code",
      "source": [
        "model_2 = tf.keras.models.load_model('model_data_science_bowl_2018.h5',\n",
        "                                     custom_objects = {'dice_coef':dice_coef, 'iou':iou})"
      ],
      "metadata": {
        "id": "7U90wLM6Keg0"
      },
      "execution_count": null,
      "outputs": []
    },
    {
      "cell_type": "code",
      "source": [
        "preds_test = model_2.predict(X_test, verbose = 1)\n",
        "\n",
        "preds_test_t = (preds_test > 0.5).astype(np.uint8)\n",
        "preds_test_upsampled = []\n",
        "for i in range(len(preds_test)):\n",
        "    preds_test_upsampled.append(resize(np.squeeze(preds_test[i]),\n",
        "                                       (sizes_test[i][0], sizes_test[i][1]), mode='constant', preserve_range=True))\n",
        "\n",
        "ix = np.random.randint(0, len(preds_test_t))\n",
        "imshow(X_test[ix])\n",
        "plt.show()\n",
        "imshow(np.squeeze(preds_test_t[ix]))\n",
        "plt.show()"
      ],
      "metadata": {
        "id": "CokLQI0iK4eb"
      },
      "execution_count": null,
      "outputs": []
    }
  ]
}